{
 "cells": [
  {
   "cell_type": "markdown",
   "metadata": {},
   "source": [
    "# fazer a imagem ser georeferenciada e salvar na pasta data/raw"
   ]
  },
  {
   "cell_type": "code",
   "execution_count": 18,
   "metadata": {},
   "outputs": [
    {
     "name": "stdout",
     "output_type": "stream",
     "text": [
      "Requirement already satisfied: rasterio in ./.venv_tcc/lib/python3.12/site-packages (1.4.3)\n",
      "Requirement already satisfied: affine in ./.venv_tcc/lib/python3.12/site-packages (from rasterio) (2.4.0)\n",
      "Requirement already satisfied: attrs in ./.venv_tcc/lib/python3.12/site-packages (from rasterio) (25.3.0)\n",
      "Requirement already satisfied: certifi in ./.venv_tcc/lib/python3.12/site-packages (from rasterio) (2025.1.31)\n",
      "Requirement already satisfied: click>=4.0 in ./.venv_tcc/lib/python3.12/site-packages (from rasterio) (8.1.8)\n",
      "Requirement already satisfied: cligj>=0.5 in ./.venv_tcc/lib/python3.12/site-packages (from rasterio) (0.7.2)\n",
      "Requirement already satisfied: numpy>=1.24 in ./.venv_tcc/lib/python3.12/site-packages (from rasterio) (2.2.4)\n",
      "Requirement already satisfied: click-plugins in ./.venv_tcc/lib/python3.12/site-packages (from rasterio) (1.1.1)\n",
      "Requirement already satisfied: pyparsing in ./.venv_tcc/lib/python3.12/site-packages (from rasterio) (3.2.3)\n",
      "\n",
      "\u001b[1m[\u001b[0m\u001b[34;49mnotice\u001b[0m\u001b[1;39;49m]\u001b[0m\u001b[39;49m A new release of pip is available: \u001b[0m\u001b[31;49m24.0\u001b[0m\u001b[39;49m -> \u001b[0m\u001b[32;49m25.0.1\u001b[0m\n",
      "\u001b[1m[\u001b[0m\u001b[34;49mnotice\u001b[0m\u001b[1;39;49m]\u001b[0m\u001b[39;49m To update, run: \u001b[0m\u001b[32;49mpip install --upgrade pip\u001b[0m\n"
     ]
    }
   ],
   "source": [
    "!pip install rasterio"
   ]
  },
  {
   "cell_type": "code",
   "execution_count": 20,
   "metadata": {},
   "outputs": [],
   "source": [
    "import rasterio\n",
    "from rasterio.transform import from_bounds\n",
    "from rasterio.crs import CRS\n",
    "import numpy as np"
   ]
  },
  {
   "cell_type": "code",
   "execution_count": 21,
   "metadata": {},
   "outputs": [],
   "source": [
    "# Your input image (the satellite export)\n",
    "input_path = \"data/raw/satellite_uncropped.tif\"  # change if it’s PNG\n",
    "output_path = \"data/raw/satellite_georeferenced.tif\""
   ]
  },
  {
   "cell_type": "code",
   "execution_count": 22,
   "metadata": {},
   "outputs": [],
   "source": [
    "# Image bounds and dimensions\n",
    "bounds = (693975.1349, 7467497.9736, 694193.4778, 7467672.6713)  # (left, bottom, right, top)\n",
    "width = 1088\n",
    "height = 630\n",
    "crs = CRS.from_epsg(31983)\n",
    "transform = from_bounds(*bounds, width=width, height=height)"
   ]
  },
  {
   "cell_type": "code",
   "execution_count": 23,
   "metadata": {},
   "outputs": [],
   "source": [
    "# Read original image\n",
    "with rasterio.open(input_path) as src:\n",
    "    data = src.read()"
   ]
  },
  {
   "cell_type": "code",
   "execution_count": 24,
   "metadata": {},
   "outputs": [
    {
     "name": "stdout",
     "output_type": "stream",
     "text": [
      "✅ Done! GeoTIFF saved as: data/raw/satellite_georeferenced.tif\n"
     ]
    }
   ],
   "source": [
    "# Save as GeoTIFF with georeferencing\n",
    "with rasterio.open(\n",
    "    output_path, 'w',\n",
    "    driver='GTiff',\n",
    "    height=height,\n",
    "    width=width,\n",
    "    count=data.shape[0],  # number of bands\n",
    "    dtype=data.dtype,\n",
    "    crs=crs,\n",
    "    transform=transform\n",
    ") as dst:\n",
    "    dst.write(data)\n",
    "\n",
    "print(\"✅ Done! GeoTIFF saved as:\", output_path)\n"
   ]
  },
  {
   "cell_type": "markdown",
   "metadata": {},
   "source": [
    "# salvar nos downloads"
   ]
  },
  {
   "cell_type": "code",
   "execution_count": 25,
   "metadata": {},
   "outputs": [],
   "source": [
    "import os"
   ]
  },
  {
   "cell_type": "code",
   "execution_count": 26,
   "metadata": {},
   "outputs": [],
   "source": [
    "output_path_downloads = os.path.expanduser(\"~/Downloads/satellite_georeferenced.tif\")"
   ]
  },
  {
   "cell_type": "code",
   "execution_count": 27,
   "metadata": {},
   "outputs": [],
   "source": [
    "with rasterio.open(input_path) as src:\n",
    "    data = src.read()\n",
    "    dtype = src.dtypes[0]\n",
    "    count = src.count"
   ]
  },
  {
   "cell_type": "code",
   "execution_count": 28,
   "metadata": {},
   "outputs": [
    {
     "name": "stdout",
     "output_type": "stream",
     "text": [
      "✅ Saved to Finder Downloads folder: data/raw/satellite_georeferenced.tif\n"
     ]
    }
   ],
   "source": [
    "with rasterio.open(\n",
    "    output_path_downloads, 'w',\n",
    "    driver='GTiff',\n",
    "    height=height,\n",
    "    width=width,\n",
    "    count=count,\n",
    "    dtype=dtype,\n",
    "    crs=crs,\n",
    "    transform=transform\n",
    ") as dst:\n",
    "    dst.write(data)\n",
    "\n",
    "print(\"✅ Saved to Finder Downloads folder:\", output_path)"
   ]
  },
  {
   "cell_type": "markdown",
   "metadata": {},
   "source": [
    "# mudar as dimensoes da simulação"
   ]
  },
  {
   "cell_type": "code",
   "execution_count": 30,
   "metadata": {},
   "outputs": [
    {
     "name": "stdout",
     "output_type": "stream",
     "text": [
      "Collecting Pillow\n",
      "  Downloading pillow-11.2.1-cp312-cp312-macosx_11_0_arm64.whl.metadata (8.9 kB)\n",
      "Downloading pillow-11.2.1-cp312-cp312-macosx_11_0_arm64.whl (3.0 MB)\n",
      "\u001b[2K   \u001b[90m━━━━━━━━━━━━━━━━━━━━━━━━━━━━━━━━━━━━━━━━\u001b[0m \u001b[32m3.0/3.0 MB\u001b[0m \u001b[31m8.9 MB/s\u001b[0m eta \u001b[36m0:00:00\u001b[0ma \u001b[36m0:00:01\u001b[0m\n",
      "\u001b[?25hInstalling collected packages: Pillow\n",
      "Successfully installed Pillow-11.2.1\n",
      "\n",
      "\u001b[1m[\u001b[0m\u001b[34;49mnotice\u001b[0m\u001b[1;39;49m]\u001b[0m\u001b[39;49m A new release of pip is available: \u001b[0m\u001b[31;49m24.0\u001b[0m\u001b[39;49m -> \u001b[0m\u001b[32;49m25.0.1\u001b[0m\n",
      "\u001b[1m[\u001b[0m\u001b[34;49mnotice\u001b[0m\u001b[1;39;49m]\u001b[0m\u001b[39;49m To update, run: \u001b[0m\u001b[32;49mpip install --upgrade pip\u001b[0m\n"
     ]
    }
   ],
   "source": [
    "!pip install Pillow"
   ]
  },
  {
   "cell_type": "code",
   "execution_count": 31,
   "metadata": {},
   "outputs": [],
   "source": [
    "import rasterio\n",
    "from rasterio.enums import Resampling\n",
    "from PIL import Image\n",
    "import numpy as np"
   ]
  },
  {
   "cell_type": "code",
   "execution_count": 32,
   "metadata": {},
   "outputs": [],
   "source": [
    "src_path = \"data/raw/satellite_georeferenced.tif\"\n",
    "dst_path = \"data/processed/satellite_bg.png\""
   ]
  },
  {
   "cell_type": "code",
   "execution_count": 33,
   "metadata": {},
   "outputs": [],
   "source": [
    "with rasterio.open(src_path) as src:\n",
    "    data = src.read(\n",
    "        out_shape=(src.count, 90, 110),           # bands, rows, cols\n",
    "        resampling=Resampling.bilinear\n",
    "    )\n",
    "    # transpose to H×W×bands, scale 0-255 and save\n",
    "    arr = np.moveaxis(data, 0, -1)\n",
    "    img = Image.fromarray(arr[:, :, :3].astype(\"uint8\"))  # keep RGB\n",
    "    img.save(dst_path)"
   ]
  }
 ],
 "metadata": {
  "kernelspec": {
   "display_name": ".venv_tcc",
   "language": "python",
   "name": "python3"
  },
  "language_info": {
   "codemirror_mode": {
    "name": "ipython",
    "version": 3
   },
   "file_extension": ".py",
   "mimetype": "text/x-python",
   "name": "python",
   "nbconvert_exporter": "python",
   "pygments_lexer": "ipython3",
   "version": "3.12.2"
  }
 },
 "nbformat": 4,
 "nbformat_minor": 2
}
